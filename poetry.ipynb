{
 "cells": [
  {
   "cell_type": "markdown",
   "metadata": {
    "vscode": {
     "languageId": "shellscript"
    }
   },
   "source": [
    "Poetry — это инструмент для управления зависимостями и упаковки Python-проектов. Он упрощает процесс создания, настройки и распространения Python-пакетов. Вот основные функции Poetry:\n",
    "\n",
    "- Управление зависимостями: Poetry позволяет легко добавлять, обновлять и удалять зависимости вашего проекта, автоматически разрешая конфликты версий.- \n",
    "- Создание виртуальных окружений: Poetry автоматически создает и управляет виртуальными окружениями для каждого проекта, что помогает изолировать зависимости.- \n",
    "- Упаковка и публикация: Poetry упрощает процесс упаковки вашего проекта и его публикации на PyPI (Python Package Index).- \n",
    "- Файл конфигурации: Все зависимости и настройки проекта хранятся в одном файле pyproject.toml, что делает его удобным для чтения и редактирования.- \n",
    "- Удобный интерфейс: Poetry предоставляет простой и интуитивно понятный интерфейс командной строки для выполнения различных задач, связанных с управлением проектами.\n"
   ]
  },
  {
   "cell_type": "markdown",
   "metadata": {
    "vscode": {
     "languageId": "shellscript"
    }
   },
   "source": [
    "Poetry действительно может работать в двух режимах: как менеджер пакетов для проектов, которые вы разрабатываете (проектный режим), и как инструмент для управления зависимостями без упаковки проекта (не проектный режим). "
   ]
  },
  {
   "cell_type": "markdown",
   "metadata": {
    "vscode": {
     "languageId": "shellscript"
    }
   },
   "source": [
    "1. Проектный режим (Project Mode)\n",
    "    - Что это: В этом режиме Poetry рассматривает ваш проект как пакет, который можно упаковать и распространять. Это означает, что вы можете использовать Poetry для управления зависимостями, а также для создания и публикации пакета.\n",
    "    - Когда использовать: Этот режим подходит, если вы разрабатываете библиотеку или приложение, которое вы планируете упаковать и, возможно, опубликовать на PyPI или другом репозитории.\n",
    "\n",
    "2. Не проектный режим (Non-Project Mode)\n",
    "    - Что это: В этом режиме Poetry не рассматривает ваш проект как пакет. Он используется только для управления зависимостями, и Poetry не будет пытаться упаковать или установить сам проект.\n",
    "    - Этот режим подходит, если вы просто хотите использовать Poetry для управления зависимостями в проекте, который не предназначен для упаковки или публикации. Например, это может быть скрипт или проект, который не требует создания пакета.    "
   ]
  },
  {
   "cell_type": "markdown",
   "metadata": {
    "vscode": {
     "languageId": "shellscript"
    }
   },
   "source": [
    "По умолчанию включен проектный режим. Чтобы его  отключить можно сделать одно из двух\n",
    "- Добавить в toml файл `package-mode = false` в начало где description и author\n",
    "- poetry install --no-root"
   ]
  },
  {
   "cell_type": "markdown",
   "metadata": {
    "vscode": {
     "languageId": "shellscript"
    }
   },
   "source": [
    "Если у вас еще не установлен Poetry, вы можете установить его с помощью следующей команды:"
   ]
  },
  {
   "cell_type": "code",
   "execution_count": null,
   "metadata": {
    "vscode": {
     "languageId": "shellscript"
    }
   },
   "outputs": [],
   "source": [
    "curl -sSL https://install.python-poetry.org | python3 -"
   ]
  },
  {
   "cell_type": "markdown",
   "metadata": {
    "vscode": {
     "languageId": "shellscript"
    }
   },
   "source": [
    "После установки убедитесь, что poetry доступен в вашем терминале:"
   ]
  },
  {
   "cell_type": "code",
   "execution_count": null,
   "metadata": {
    "vscode": {
     "languageId": "shellscript"
    }
   },
   "outputs": [],
   "source": [
    "poetry --version"
   ]
  },
  {
   "cell_type": "markdown",
   "metadata": {
    "vscode": {
     "languageId": "shellscript"
    }
   },
   "source": [
    "Создайте новый проект: Выполните команду, чтобы создать новый проект. Замените my_new_project на желаемое имя вашего проекта:"
   ]
  },
  {
   "cell_type": "code",
   "execution_count": null,
   "metadata": {
    "vscode": {
     "languageId": "shellscript"
    }
   },
   "outputs": [],
   "source": [
    "poetry new my_new_project"
   ]
  },
  {
   "cell_type": "markdown",
   "metadata": {
    "vscode": {
     "languageId": "shellscript"
    }
   },
   "source": [
    "Эта команда создаст новую папку с именем my_new_project и создаст в ней базовую структуру проекта."
   ]
  },
  {
   "cell_type": "code",
   "execution_count": null,
   "metadata": {
    "vscode": {
     "languageId": "shellscript"
    }
   },
   "outputs": [],
   "source": [
    "cd my_new_project"
   ]
  },
  {
   "cell_type": "markdown",
   "metadata": {},
   "source": [
    "Чтобы добавить свой модуль, который лежит на гитхабе можно использовать один из двух способов\n",
    "1. Использование команды poetry add"
   ]
  },
  {
   "cell_type": "code",
   "execution_count": null,
   "metadata": {
    "vscode": {
     "languageId": "shellscript"
    }
   },
   "outputs": [],
   "source": [
    "poetry add git+https://github.com/PAGriAnalytics/pagri_data_tools.git"
   ]
  },
  {
   "cell_type": "markdown",
   "metadata": {
    "vscode": {
     "languageId": "plaintext"
    }
   },
   "source": [
    "Эта команда добавит ваш модуль как зависимость в новый проект, и Poetry автоматически обновит файл pyproject.toml, добавив вашу библиотеку в секцию [tool.poetry.dependencies]."
   ]
  },
  {
   "cell_type": "markdown",
   "metadata": {
    "vscode": {
     "languageId": "shellscript"
    }
   },
   "source": [
    "2. Ручное добавление в pyproject.toml\n",
    "    - Откройте файл pyproject.toml вашего нового проекта.\n",
    "    - В секции [tool.poetry.dependencies] добавьте строку для вашего модуля:\n"
   ]
  },
  {
   "cell_type": "code",
   "execution_count": null,
   "metadata": {
    "vscode": {
     "languageId": "shellscript"
    }
   },
   "outputs": [],
   "source": [
    "[tool.poetry.dependencies]\n",
    "# ... другие зависимости ...\n",
    "pagri_data_tools = { git = \"https://github.com/PAGriAnalytics/pagri_data_tools.git\", rev = \"v0.1.0\" }"
   ]
  },
  {
   "cell_type": "markdown",
   "metadata": {
    "vscode": {
     "languageId": "shellscript"
    }
   },
   "source": [
    "Здесь rev указывает на конкретный тег, который вы хотите использовать. Если вы хотите использовать последнюю версию, вы можете опустить rev."
   ]
  },
  {
   "cell_type": "markdown",
   "metadata": {
    "vscode": {
     "languageId": "shellscript"
    }
   },
   "source": [
    "После этого выполните команду:"
   ]
  },
  {
   "cell_type": "code",
   "execution_count": null,
   "metadata": {
    "vscode": {
     "languageId": "shellscript"
    }
   },
   "outputs": [],
   "source": [
    "poetry install"
   ]
  },
  {
   "cell_type": "markdown",
   "metadata": {
    "vscode": {
     "languageId": "shellscript"
    }
   },
   "source": [
    "Чтобы обновить пакеты до последний версий "
   ]
  },
  {
   "cell_type": "code",
   "execution_count": null,
   "metadata": {
    "vscode": {
     "languageId": "shellscript"
    }
   },
   "outputs": [],
   "source": [
    "poetry update"
   ]
  },
  {
   "cell_type": "markdown",
   "metadata": {
    "vscode": {
     "languageId": "shellscript"
    }
   },
   "source": [
    "Теперь вы можете запустить ваш проект. Если у вас есть основной файл, например main.py, вы можете запустить его с помощью:"
   ]
  },
  {
   "cell_type": "code",
   "execution_count": null,
   "metadata": {
    "vscode": {
     "languageId": "shellscript"
    }
   },
   "outputs": [],
   "source": [
    "poetry run python main.py"
   ]
  },
  {
   "cell_type": "markdown",
   "metadata": {
    "vscode": {
     "languageId": "shellscript"
    }
   },
   "source": [
    "Либо настроить окружение вашего проекта в Visual Studio Code или другой ide"
   ]
  },
  {
   "cell_type": "markdown",
   "metadata": {
    "vscode": {
     "languageId": "shellscript"
    }
   },
   "source": [
    "Если вам нужно добавить дополнительные зависимости в будущем, вы можете использовать команду poetry add:"
   ]
  },
  {
   "cell_type": "code",
   "execution_count": null,
   "metadata": {
    "vscode": {
     "languageId": "shellscript"
    }
   },
   "outputs": [],
   "source": [
    "poetry add <имя_пакета>"
   ]
  },
  {
   "cell_type": "markdown",
   "metadata": {
    "vscode": {
     "languageId": "shellscript"
    }
   },
   "source": [
    "update обновляет только до версии в toml файле, чтобы установить самую новую версию пакета,  \n",
    "нужно указать версию и тогда если зависимости ок, то установится и изменится в toml версия"
   ]
  },
  {
   "cell_type": "code",
   "execution_count": null,
   "metadata": {
    "vscode": {
     "languageId": "shellscript"
    }
   },
   "outputs": [],
   "source": [
    "poetry add <имя_пакета>@version"
   ]
  },
  {
   "cell_type": "markdown",
   "metadata": {
    "vscode": {
     "languageId": "shellscript"
    }
   },
   "source": [
    "Чтобы посмотреть установленные версии и последние версии пакета"
   ]
  },
  {
   "cell_type": "code",
   "execution_count": null,
   "metadata": {
    "vscode": {
     "languageId": "shellscript"
    }
   },
   "outputs": [],
   "source": [
    "poetry show --latest"
   ]
  },
  {
   "cell_type": "markdown",
   "metadata": {
    "vscode": {
     "languageId": "shellscript"
    }
   },
   "source": [
    "Если нужно оставить только те, которые изменились, то есть текущая не совпадает с полсденей доступной"
   ]
  },
  {
   "cell_type": "code",
   "execution_count": null,
   "metadata": {
    "vscode": {
     "languageId": "shellscript"
    }
   },
   "outputs": [],
   "source": [
    "poetry show --latest | awk '$2 != $3 {print $0}'"
   ]
  }
 ],
 "metadata": {
  "language_info": {
   "name": "python"
  }
 },
 "nbformat": 4,
 "nbformat_minor": 2
}
